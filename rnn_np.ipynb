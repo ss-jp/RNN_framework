{
 "cells": [
  {
   "cell_type": "markdown",
   "metadata": {},
   "source": [
    "# RNN(Numpy)"
   ]
  },
  {
   "cell_type": "code",
   "execution_count": 31,
   "metadata": {},
   "outputs": [],
   "source": [
    "import numpy as np\n",
    "import matplotlib.pyplot as plt\n",
    "% matplotlib inline\n",
    "import seaborn as sns\n",
    "sns.set()\n",
    "\n",
    "np.random.seed(1)"
   ]
  },
  {
   "cell_type": "markdown",
   "metadata": {},
   "source": [
    "## データ生成"
   ]
  },
  {
   "cell_type": "code",
   "execution_count": 32,
   "metadata": {},
   "outputs": [],
   "source": [
    "# sin曲線+ノイズ\n",
    "ts = np.linspace(0, 10 * np.pi, 500)\n",
    "ys = np.sin(ts) + np.random.normal(scale=0.05, size=len(ts))"
   ]
  },
  {
   "cell_type": "code",
   "execution_count": 34,
   "metadata": {},
   "outputs": [
    {
     "data": {
      "text/plain": [
       "[<matplotlib.lines.Line2D at 0x1b10e7345f8>]"
      ]
     },
     "execution_count": 34,
     "metadata": {},
     "output_type": "execute_result"
    },
    {
     "data": {
      "image/png": "[encoded data removed]",
      "text/plain": [
       "<matplotlib.figure.Figure at 0x1b10e38ecc0>"
      ]
     },
     "metadata": {},
     "output_type": "display_data"
    }
   ],
   "source": [
    "plt.plot(ts, ys)"
   ]
  },
  {
   "cell_type": "code",
   "execution_count": 35,
   "metadata": {},
   "outputs": [],
   "source": [
    "# 学習設定\n",
    "batch_size = 32     # ミニバッチサイズ\n",
    "n_steps = 50          # 入力系列の長さ\n",
    "input_size = 1        # 入力の次元\n",
    "hidden_size = 10   #  中間層の次元\n",
    "output_size = 1     # 出力層の次元\n",
    "\n",
    "lr = 1e-5                  # 学習率(SGD)\n",
    "n_iter = 1000           # イテレーション回数"
   ]
  },
  {
   "cell_type": "code",
   "execution_count": 36,
   "metadata": {},
   "outputs": [],
   "source": [
    "# 訓練データとテストデータに分割\n",
    "train_ratio = 0.8\n",
    "data = []\n",
    "for i in range(len(ys) - n_steps - 1):\n",
    "    data.append(ys[i: i+n_steps+1])\n",
    "data = np.array(data, dtype=np.float32)\n",
    "n_train = int(train_ratio * len(data))\n",
    "x_train, y_train = np.split(data[:n_train], [-1], axis=1)\n",
    "x_test, y_test = np.split(data[n_train:], [-1], axis=1)\n",
    "\n",
    "x_train = np.reshape(x_train, [-1, n_steps, input_size])\n",
    "x_test = np.reshape(x_test, [-1, n_steps, input_size])"
   ]
  },
  {
   "cell_type": "markdown",
   "metadata": {},
   "source": [
    "## モデル構築"
   ]
  },
  {
   "cell_type": "code",
   "execution_count": 38,
   "metadata": {},
   "outputs": [],
   "source": [
    "# utility関数\n",
    "\n",
    "def d_tanh_by_y(y):\n",
    "    # y = tanh(x)の微分をyによって計算\n",
    "    return 1 - y * y\n",
    "\n",
    "def mean_squared_error(y, t):\n",
    "    # 平均二乗誤差\n",
    "    return np.mean(np.square(y - t))\n",
    "\n",
    "def d_mean_squared_error(y, t):\n",
    "    # 平均二乗誤差の微分\n",
    "    return 2. * (y - t)"
   ]
  },
  {
   "cell_type": "code",
   "execution_count": 39,
   "metadata": {},
   "outputs": [],
   "source": [
    "class Adam():\n",
    "    # Adam optimizer\n",
    "    def __init__(self, alpha=0.001, beta1=0.9, beta2=0.999, eps=1e-08):\n",
    "        self.alpha = alpha\n",
    "        self.beta1 = beta1\n",
    "        self.beta2 = beta2\n",
    "        self.eps = eps\n",
    "        self.m = {}\n",
    "        self.v = {}\n",
    "    \n",
    "    def adam_grad(self, grad, tt, n):\n",
    "        \"\"\"\n",
    "        adamにおける更新量を計算\n",
    "        \n",
    "        grad: gradient\n",
    "        tt: train step\n",
    "        n: param id\n",
    "        \"\"\"\n",
    "        if n not in self.m:\n",
    "            self.m[n] = np.zeros_like(grad)\n",
    "            self.v[n] = np.zeros_like(grad)\n",
    "        m, v = self.m[n], self.v[n]\n",
    "        \n",
    "        m += (1 - self.beta1) * (grad - m)\n",
    "        v += (1 - self.beta2) * (grad * grad - v)\n",
    "        \n",
    "        fix1 = 1. - np.power(self.beta1, tt)\n",
    "        fix2 = 1. - np.power(self.beta2, tt)\n",
    "        lr = self.alpha * np.sqrt(fix2) / fix1\n",
    "        return lr * m / (np.sqrt(v) + self.eps)"
   ]
  },
  {
   "cell_type": "code",
   "execution_count": 40,
   "metadata": {},
   "outputs": [],
   "source": [
    "class RNN():\n",
    "\n",
    "    def __init__(self, input_size, hidden_size, output_size, opt='adam', lr=None):\n",
    "        # 各パラメータを初期化\n",
    "        self.W_xh = np.random.normal(scale=init_scale(input_size), size=(hidden_size, input_size))\n",
    "        self.W_hh = np.random.normal(scale=init_scale(hidden_size), size=(hidden_size, hidden_size))\n",
    "        self.W_hy = np.random.normal(scale=init_scale(hidden_size), size=(output_size, hidden_size))\n",
    "        self.b_h = np.zeros(hidden_size)\n",
    "        self.b_y = np.zeros(output_size)\n",
    "        \n",
    "        self.hidden_size = hidden_size\n",
    "        \n",
    "        if opt == 'adam':\n",
    "            self.adam = Adam()\n",
    "            self.update = self.update_Adam\n",
    "        else:\n",
    "            self.update = self.update_SGD\n",
    "            self.lr = lr  # 学習率(SGD)\n",
    "\n",
    "    def forward(self, x):\n",
    "        \"\"\"\n",
    "        順伝播\n",
    "        x: (batch_size, n_steps, input_size)\n",
    "        \"\"\"\n",
    "        batch_size, n_steps, input_size = x.shape\n",
    "        x = np.transpose(x, [1, 0, 2])  # (n_steps, batch_size, input_size)\n",
    "        \n",
    "        # RNNの初期状態\n",
    "        h = np.zeros([batch_size, self.hidden_size])\n",
    "        hs = [h]\n",
    "        # 系列順にRNN層に入力\n",
    "        for xt in x:\n",
    "            h = np.tanh(np.dot(xt, self.W_xh.T) + np.dot(h, self.W_hh.T) + self.b_h)\n",
    "            hs.append(h)\n",
    "        y = np.dot(h, self.W_hy.T) + self.b_y\n",
    "        return y, hs\n",
    "\n",
    "    def train_step(self, x, t, tt):\n",
    "        \"\"\"\n",
    "        訓練1回（順伝播＋誤差逆伝播＋パラメータ更新）\n",
    "        x: input\n",
    "        t: label\n",
    "        tt: #train step (for adam)\n",
    "        \"\"\"\n",
    "        # 順伝播\n",
    "        y, hs = self.forward(x)\n",
    "        # 損失関数を計算\n",
    "        loss = mean_squared_error(y, t)\n",
    "        \n",
    "        # 各パラメータについての勾配を初期化\n",
    "        dW_xh, dW_hh, dW_hy = np.zeros_like(self.W_xh), np.zeros_like(self.W_hh), np.zeros_like(self.W_hy)\n",
    "        db_h, db_y = np.zeros_like(self.b_h), np.zeros_like(self.b_y)\n",
    "        \n",
    "        # 誤差逆伝播\n",
    "        # バッチサイズを考慮するので、コメントの式とは少し異なる\n",
    "        dy = d_mean_squared_error(y, t) # dL/dy\n",
    "        dW_hy += np.dot(dy.T, hs[-1])  # dL/dW_hy = dy ・ h^T\n",
    "        db_y += np.sum(dy, axis=0)  # dL/db_y = dy\n",
    "        du = np.dot(dy, self.W_hy) * d_tanh_by_y(hs[-1]) # dL/du = (W_hy^T ・ dy) f'(u)\n",
    "        \n",
    "        # Truncated BPTTのステップ数（ len(hs)+1ならFull BPTT ）\n",
    "        bptt_steps = len(hs)\n",
    "        for i in range(1, bptt_steps):\n",
    "            dW_xh += np.dot(du.T, x[:, -i])  # dL/dW_xh = \\sum du_{t} ・ x_{t}^T\n",
    "            dW_hh += np.dot(du.T, hs[-i-1])  # dL/dW_hh = \\sum du_{t} ・ h_{t-1}^T\n",
    "            db_h += np.sum(du, axis=0)  # dL/db_h = \\sum du_{t}\n",
    "            du = np.dot(du, self.W_hh) * d_tanh_by_y(hs[-i-1])  # dL/du_{t-1} = (W_hh^T ・ du_{t}) f'(u_{t-1})\n",
    "        \n",
    "        # 計算した勾配を利用して各パラメータを更新\n",
    "        self.update(tt, dW_xh, dW_hh, dW_hy, db_h, db_y)\n",
    "        return loss\n",
    "    \n",
    "    def update_SGD(self, tt, dW_xh, dW_hh, dW_hy, db_h, db_y):\n",
    "        # SGDで更新\n",
    "        self.W_xh -= self.lr * dW_xh\n",
    "        self.W_hh -= self.lr * dW_hh\n",
    "        self.W_hy -= self.lr * dW_hy\n",
    "        self.b_h -= self.lr * db_h\n",
    "        self.b_y -= self.lr * db_y\n",
    "    \n",
    "    def update_Adam(self, tt, dW_xh, dW_hh, dW_hy, db_h, db_y):\n",
    "        # Adamで更新\n",
    "        self.W_xh -= self.adam.adam_grad(dW_xh, tt, 0)\n",
    "        self.W_hh -= self.adam.adam_grad(dW_hh, tt, 1)\n",
    "        self.W_hy -= self.adam.adam_grad(dW_hy, tt, 2)\n",
    "        self.b_h -= self.adam.adam_grad(db_h, tt, 3)\n",
    "        self.b_y -= self.adam.adam_grad(db_y, tt, 4)\n",
    "    \n",
    "\n",
    "def init_scale(in_size):\n",
    "    # パラメータの初期化スケール\n",
    "    return np.sqrt(1. / in_size)"
   ]
  },
  {
   "cell_type": "code",
   "execution_count": 41,
   "metadata": {},
   "outputs": [],
   "source": [
    "# モデルをインスタンス化\n",
    "model = RNN(input_size, hidden_size, output_size, opt='adam', lr=lr)"
   ]
  },
  {
   "cell_type": "markdown",
   "metadata": {},
   "source": [
    "## 学習"
   ]
  },
  {
   "cell_type": "code",
   "execution_count": 42,
   "metadata": {},
   "outputs": [
    {
     "name": "stdout",
     "output_type": "stream",
     "text": [
      "step: 0, loss 0.53225\n",
      "step: 50, loss 0.14484\n",
      "step: 100, loss 0.07357\n",
      "step: 150, loss 0.02824\n",
      "step: 200, loss 0.01703\n",
      "step: 250, loss 0.01244\n",
      "step: 300, loss 0.00760\n",
      "step: 350, loss 0.00750\n",
      "step: 400, loss 0.00675\n",
      "step: 450, loss 0.00774\n",
      "step: 500, loss 0.00314\n",
      "step: 550, loss 0.00218\n",
      "step: 600, loss 0.00391\n",
      "step: 650, loss 0.00444\n",
      "step: 700, loss 0.00218\n",
      "step: 750, loss 0.00159\n",
      "step: 800, loss 0.00316\n",
      "step: 850, loss 0.00238\n",
      "step: 900, loss 0.00364\n",
      "step: 950, loss 0.00354\n"
     ]
    }
   ],
   "source": [
    "# 訓練データのインデックスをランダムに\n",
    "perm = np.random.permutation(len(x_train))\n",
    "\n",
    "for i in range(n_iter):\n",
    "    idx = (i * batch_size) % len(x_train)\n",
    "    batch_x, batch_y = x_train[perm[idx: idx+batch_size]], y_train[perm[idx: idx+batch_size]]\n",
    "    \n",
    "    loss = model.train_step(batch_x, batch_y, i+1)\n",
    "    if i % 50 == 0:\n",
    "        print(\"step: {}, loss {:.5f}\".format(i, loss))"
   ]
  },
  {
   "cell_type": "markdown",
   "metadata": {},
   "source": [
    "## テスト"
   ]
  },
  {
   "cell_type": "code",
   "execution_count": 43,
   "metadata": {},
   "outputs": [],
   "source": [
    "# テストデータに対する予測\n",
    "prediction, _ = model.forward(x_test)\n",
    "\n",
    "# 1次元配列に\n",
    "prediction = prediction.reshape(-1)\n",
    "true_y = y_test.reshape(-1)"
   ]
  },
  {
   "cell_type": "code",
   "execution_count": 45,
   "metadata": {},
   "outputs": [
    {
     "data": {
      "text/plain": [
       "<matplotlib.legend.Legend at 0x1b10e8137f0>"
      ]
     },
     "execution_count": 45,
     "metadata": {},
     "output_type": "execute_result"
    },
    {
     "data": {
      "image/png": "[encoded data removed]",
      "text/plain": [
       "<matplotlib.figure.Figure at 0x1b10e786710>"
      ]
     },
     "metadata": {},
     "output_type": "display_data"
    }
   ],
   "source": [
    "# テストデータに対する予測を可視化\n",
    "xx = np.arange(len(prediction))\n",
    "plt.plot(xx, true_y, label='true')\n",
    "plt.plot(xx, prediction, label='prediction')\n",
    "plt.legend()"
   ]
  },
  {
   "cell_type": "markdown",
   "metadata": {},
   "source": [
    "## 再帰的な予測"
   ]
  },
  {
   "cell_type": "code",
   "execution_count": 46,
   "metadata": {},
   "outputs": [],
   "source": [
    "# テストデータの最初のデータからスタートし、\n",
    "# モデルの予測を利用し再帰的に予測\n",
    "curr_x = x_test[0]\n",
    "predicted = []\n",
    "# 予測するステップ数\n",
    "N = 200\n",
    "for i in range(N):\n",
    "    # 予測\n",
    "    y, _ = model.forward(curr_x[None])\n",
    "    predicted.append(y)\n",
    "    # 入力を更新\n",
    "    curr_x = np.insert(curr_x, n_steps, predicted[-1], axis=0)[1:]\n",
    "\n",
    "# 1次元配列に\n",
    "predicted = np.array(predicted).reshape(-1)"
   ]
  },
  {
   "cell_type": "code",
   "execution_count": 47,
   "metadata": {},
   "outputs": [
    {
     "data": {
      "text/plain": [
       "<matplotlib.legend.Legend at 0x1b10e8802e8>"
      ]
     },
     "execution_count": 47,
     "metadata": {},
     "output_type": "execute_result"
    },
    {
     "data": {
      "image/png": "[encoded data removed]",
      "text/plain": [
       "<matplotlib.figure.Figure at 0x1b10e858a58>"
      ]
     },
     "metadata": {},
     "output_type": "display_data"
    }
   ],
   "source": [
    "#再帰的な予測を可視化\n",
    "plt.plot(xx, true_y, label='true')\n",
    "plt.plot(np.arange(N), predicted, label='prediction')\n",
    "plt.legend()"
   ]
  }
 ],
 "metadata": {
  "kernelspec": {
   "display_name": "Python 3",
   "language": "python",
   "name": "python3"
  },
  "language_info": {
   "codemirror_mode": {
    "name": "ipython",
    "version": 3
   },
   "file_extension": ".py",
   "mimetype": "text/x-python",
   "name": "python",
   "nbconvert_exporter": "python",
   "pygments_lexer": "ipython3",
   "version": "3.6.4"
  }
 },
 "nbformat": 4,
 "nbformat_minor": 2
}
